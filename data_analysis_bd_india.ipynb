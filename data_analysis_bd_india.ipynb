{
 "cells": [
  {
   "cell_type": "code",
   "execution_count": 1,
   "id": "61c56397",
   "metadata": {},
   "outputs": [],
   "source": [
    "import numpy as np\n",
    "import pandas as pd\n",
    "import matplotlib.pyplot as plt\n",
    "import seaborn as sns\n",
    "from sklearn.model_selection import train_test_split\n",
    "\n",
    "from sklearn import metrics"
   ]
  },
  {
   "cell_type": "code",
   "execution_count": 2,
   "id": "85e1857b",
   "metadata": {},
   "outputs": [],
   "source": [
    "df = pd.read_csv('bedno.csv')"
   ]
  },
  {
   "cell_type": "code",
   "execution_count": 3,
   "id": "de57ac56",
   "metadata": {},
   "outputs": [
    {
     "name": "stdout",
     "output_type": "stream",
     "text": [
      "   Sl. No.                            Organization Name Division  District  \\\n",
      "0        1        Bamna Upazila Health Complex, Barguna  Barisal   Barguna   \n",
      "1        2    Babuganj Upazila Health Complex, Barishal  Barisal  Barishal   \n",
      "2        3   Bakerganj Upazila Health Complex, Barishal  Barisal  Barishal   \n",
      "3        4  Banaripara Upazila Health Complex, Barishal  Barisal  Barishal   \n",
      "4        5       Hijla Upazila Health Complex, Barishal  Barisal  Barishal   \n",
      "\n",
      "      Upazila  Noofbed  Unnamed: 6  \n",
      "0       Bamna       31         NaN  \n",
      "1    Babuganj       31         NaN  \n",
      "2   Bakerganj       31         NaN  \n",
      "3  Banaripara       31         NaN  \n",
      "4       Hizla       31         NaN  \n"
     ]
    }
   ],
   "source": [
    "print(df.head())"
   ]
  },
  {
   "cell_type": "code",
   "execution_count": 4,
   "id": "92b3ac09",
   "metadata": {},
   "outputs": [
    {
     "name": "stdout",
     "output_type": "stream",
     "text": [
      "<class 'pandas.core.frame.DataFrame'>\n",
      "RangeIndex: 549 entries, 0 to 548\n",
      "Data columns (total 7 columns):\n",
      " #   Column             Non-Null Count  Dtype  \n",
      "---  ------             --------------  -----  \n",
      " 0   Sl. No.            549 non-null    int64  \n",
      " 1   Organization Name  549 non-null    object \n",
      " 2   Division           549 non-null    object \n",
      " 3   District           549 non-null    object \n",
      " 4   Upazila            549 non-null    object \n",
      " 5   Noofbed            549 non-null    int64  \n",
      " 6   Unnamed: 6         0 non-null      float64\n",
      "dtypes: float64(1), int64(2), object(4)\n",
      "memory usage: 30.1+ KB\n",
      "None\n"
     ]
    }
   ],
   "source": [
    "print(df.info())"
   ]
  },
  {
   "cell_type": "code",
   "execution_count": 5,
   "id": "171f6ecf",
   "metadata": {},
   "outputs": [
    {
     "name": "stdout",
     "output_type": "stream",
     "text": [
      "Sl. No.                0\n",
      "Organization Name      0\n",
      "Division               0\n",
      "District               0\n",
      "Upazila                0\n",
      "Noofbed                0\n",
      "Unnamed: 6           549\n",
      "dtype: int64\n",
      "          Sl. No.      Noofbed  Unnamed: 6\n",
      "count  549.000000   549.000000         0.0\n",
      "mean    90.519126    77.823315         NaN\n",
      "std     76.039524   180.222712         NaN\n",
      "min      1.000000    10.000000         NaN\n",
      "25%     21.000000    31.000000         NaN\n",
      "50%     75.000000    31.000000         NaN\n",
      "75%    144.000000    50.000000         NaN\n",
      "max    266.000000  1500.000000         NaN\n"
     ]
    }
   ],
   "source": [
    "print(df.isnull().sum())\n",
    "print(df.describe())"
   ]
  },
  {
   "cell_type": "code",
   "execution_count": 6,
   "id": "093b237d",
   "metadata": {},
   "outputs": [
    {
     "data": {
      "text/plain": [
       "<matplotlib.legend.Legend at 0x2dd5d8a4160>"
      ]
     },
     "execution_count": 6,
     "metadata": {},
     "output_type": "execute_result"
    },
    {
     "data": {
      "image/png": "[encoded data removed]",
      "text/plain": [
       "<Figure size 432x288 with 1 Axes>"
      ]
     },
     "metadata": {
      "needs_background": "light"
     },
     "output_type": "display_data"
    }
   ],
   "source": [
    "df['Noofbed'].value_counts().plot(kind='bar')\n",
    "plt.ylabel(\"amount of hospitals that has 31,50 etc no of bed\")\n",
    "plt.xlabel(\"no of beds for ex: 31,50,100 etc\")\n",
    "plt.legend()"
   ]
  },
  {
   "cell_type": "code",
   "execution_count": 7,
   "id": "7cc64d72",
   "metadata": {},
   "outputs": [
    {
     "data": {
      "text/plain": [
       "<matplotlib.legend.Legend at 0x2dd62d65b20>"
      ]
     },
     "execution_count": 7,
     "metadata": {},
     "output_type": "execute_result"
    },
    {
     "data": {
      "image/png": "[encoded data removed]",
      "text/plain": [
       "<Figure size 432x288 with 1 Axes>"
      ]
     },
     "metadata": {
      "needs_background": "light"
     },
     "output_type": "display_data"
    }
   ],
   "source": [
    "df['Noofbed'].value_counts().plot(kind='barh')\n",
    "plt.ylabel(\"amount of hospitals that has 31,50 etc no of bed\")\n",
    "plt.xlabel(\"no of beds for ex: 31,50,100 etc\")\n",
    "plt.legend()"
   ]
  },
  {
   "cell_type": "code",
   "execution_count": 8,
   "id": "dc90dad2",
   "metadata": {},
   "outputs": [
    {
     "name": "stdout",
     "output_type": "stream",
     "text": [
      "            State/UT  SubCenters  ANM/Health_Worker_Female  Doctors  \\\n",
      "0     Andhra Pradesh        7437                     15742     1798   \n",
      "1  Arunachal Pradesh         356                       471      194   \n",
      "2              Assam        4659                      8614     1424   \n",
      "3              Bihar        9112                     15656     1745   \n",
      "4       Chhattisgarh        5205                      5921      388   \n",
      "\n",
      "   DoctorsRange  Specialists  Radiographers  Pharmacists  LabTechnicians  \\\n",
      "0             5          315             56         1039             913   \n",
      "1             2           14             13          108             120   \n",
      "2             4          188            117         1384            1279   \n",
      "3             4          124              3          492             438   \n",
      "4             2           62            161          946             811   \n",
      "\n",
      "   NursingStaff  NoOfPatientsByDoctors  NoOfPatientsBySpecialists  \\\n",
      "0          3088                  35960                      12600   \n",
      "1           679                   3880                        560   \n",
      "2          3575                  28480                       7520   \n",
      "3          1346                  34900                       4960   \n",
      "4          2718                   7760                       2480   \n",
      "\n",
      "   NoOfPatientsByRadiographer  NoOfPaperNeedForPatientsPrescription  \\\n",
      "0                        2800                                 51360   \n",
      "1                         650                                  5090   \n",
      "2                        5850                                 41850   \n",
      "3                         150                                 40010   \n",
      "4                        8050                                 18290   \n",
      "\n",
      "   PriceOfPaperInDollar  cost  \n",
      "0                1027.2     1  \n",
      "1                 101.8     0  \n",
      "2                 837.0     1  \n",
      "3                 800.2     1  \n",
      "4                 365.8     1  \n",
      "<class 'pandas.core.frame.DataFrame'>\n",
      "RangeIndex: 35 entries, 0 to 34\n",
      "Data columns (total 16 columns):\n",
      " #   Column                                Non-Null Count  Dtype  \n",
      "---  ------                                --------------  -----  \n",
      " 0   State/UT                              35 non-null     object \n",
      " 1   SubCenters                            35 non-null     int64  \n",
      " 2   ANM/Health_Worker_Female              35 non-null     int64  \n",
      " 3   Doctors                               35 non-null     int64  \n",
      " 4   DoctorsRange                          35 non-null     int64  \n",
      " 5   Specialists                           35 non-null     int64  \n",
      " 6   Radiographers                         35 non-null     int64  \n",
      " 7   Pharmacists                           35 non-null     int64  \n",
      " 8   LabTechnicians                        35 non-null     int64  \n",
      " 9   NursingStaff                          35 non-null     int64  \n",
      " 10  NoOfPatientsByDoctors                 35 non-null     int64  \n",
      " 11  NoOfPatientsBySpecialists             35 non-null     int64  \n",
      " 12  NoOfPatientsByRadiographer            35 non-null     int64  \n",
      " 13  NoOfPaperNeedForPatientsPrescription  35 non-null     int64  \n",
      " 14  PriceOfPaperInDollar                  35 non-null     float64\n",
      " 15  cost                                  35 non-null     int64  \n",
      "dtypes: float64(1), int64(14), object(1)\n",
      "memory usage: 4.5+ KB\n",
      "None\n",
      "State/UT                                0\n",
      "SubCenters                              0\n",
      "ANM/Health_Worker_Female                0\n",
      "Doctors                                 0\n",
      "DoctorsRange                            0\n",
      "Specialists                             0\n",
      "Radiographers                           0\n",
      "Pharmacists                             0\n",
      "LabTechnicians                          0\n",
      "NursingStaff                            0\n",
      "NoOfPatientsByDoctors                   0\n",
      "NoOfPatientsBySpecialists               0\n",
      "NoOfPatientsByRadiographer              0\n",
      "NoOfPaperNeedForPatientsPrescription    0\n",
      "PriceOfPaperInDollar                    0\n",
      "cost                                    0\n",
      "dtype: int64\n",
      "         SubCenters  ANM/Health_Worker_Female      Doctors  DoctorsRange  \\\n",
      "count     35.000000                 35.000000    35.000000     35.000000   \n",
      "mean    4440.114286               6074.085714   814.742857      2.628571   \n",
      "std     4918.714937               6431.508456   868.774977      1.496775   \n",
      "min       11.000000                 34.000000    10.000000      1.000000   \n",
      "25%      333.500000                432.500000    97.500000      1.000000   \n",
      "50%     2617.000000               4511.000000   391.000000      2.000000   \n",
      "75%     8075.000000              10027.500000  1318.500000      4.000000   \n",
      "max    20778.000000              23591.000000  2848.000000      5.000000   \n",
      "\n",
      "       Specialists  Radiographers  Pharmacists  LabTechnicians  NursingStaff  \\\n",
      "count    35.000000      35.000000    35.000000       35.000000     35.000000   \n",
      "mean    141.628571      69.542857   736.914286      568.657143   2052.771429   \n",
      "std     195.448968      80.706929   863.736424      596.622994   2376.325303   \n",
      "min       0.000000       0.000000     4.000000        1.000000      6.000000   \n",
      "25%       4.500000       4.500000    82.500000       54.500000    244.000000   \n",
      "50%      32.000000      26.000000   442.000000      400.000000   1346.000000   \n",
      "75%     229.000000     122.000000  1216.500000      852.500000   2911.000000   \n",
      "max     816.000000     329.000000  4181.000000     1979.000000   8174.000000   \n",
      "\n",
      "       NoOfPatientsByDoctors  NoOfPatientsBySpecialists  \\\n",
      "count              35.000000                  35.000000   \n",
      "mean            16294.857143                5665.142857   \n",
      "std             17375.499548                7817.958727   \n",
      "min               200.000000                   0.000000   \n",
      "25%              1950.000000                 180.000000   \n",
      "50%              7820.000000                1280.000000   \n",
      "75%             26370.000000                9160.000000   \n",
      "max             56960.000000               32640.000000   \n",
      "\n",
      "       NoOfPatientsByRadiographer  NoOfPaperNeedForPatientsPrescription  \\\n",
      "count                   35.000000                             35.000000   \n",
      "mean                  3477.142857                          25437.142857   \n",
      "std                   4035.346455                          26511.004327   \n",
      "min                      0.000000                            360.000000   \n",
      "25%                    225.000000                           2535.000000   \n",
      "50%                   1300.000000                          17700.000000   \n",
      "75%                   6100.000000                          39205.000000   \n",
      "max                  16450.000000                          97270.000000   \n",
      "\n",
      "       PriceOfPaperInDollar      cost  \n",
      "count             35.000000  35.00000  \n",
      "mean             508.742857   0.60000  \n",
      "std              530.220087   0.49705  \n",
      "min                7.200000   0.00000  \n",
      "25%               50.700000   0.00000  \n",
      "50%              354.000000   1.00000  \n",
      "75%              784.100000   1.00000  \n",
      "max             1945.400000   1.00000  \n"
     ]
    }
   ],
   "source": [
    "df1 = pd.read_csv('india2020.csv')\n",
    "print(df1.head())\n",
    "print(df1.info())\n",
    "print(df1.isnull().sum())\n",
    "print(df1.describe())"
   ]
  },
  {
   "cell_type": "code",
   "execution_count": 9,
   "id": "dcd6a185",
   "metadata": {},
   "outputs": [
    {
     "data": {
      "text/plain": [
       "<matplotlib.legend.Legend at 0x2dd6358eeb0>"
      ]
     },
     "execution_count": 9,
     "metadata": {},
     "output_type": "execute_result"
    },
    {
     "data": {
      "image/png": "[encoded data removed]",
      "text/plain": [
       "<Figure size 432x288 with 1 Axes>"
      ]
     },
     "metadata": {
      "needs_background": "light"
     },
     "output_type": "display_data"
    }
   ],
   "source": [
    "df1['DoctorsRange'].value_counts().plot(kind='bar')\n",
    "plt.title('Doctors range in various hospitals of india ')\n",
    "plt.legend()"
   ]
  },
  {
   "cell_type": "code",
   "execution_count": null,
   "id": "d7228879",
   "metadata": {},
   "outputs": [],
   "source": []
  }
 ],
 "metadata": {
  "kernelspec": {
   "display_name": "Python 3",
   "language": "python",
   "name": "python3"
  },
  "language_info": {
   "codemirror_mode": {
    "name": "ipython",
    "version": 3
   },
   "file_extension": ".py",
   "mimetype": "text/x-python",
   "name": "python",
   "nbconvert_exporter": "python",
   "pygments_lexer": "ipython3",
   "version": "3.8.8"
  }
 },
 "nbformat": 4,
 "nbformat_minor": 5
}
